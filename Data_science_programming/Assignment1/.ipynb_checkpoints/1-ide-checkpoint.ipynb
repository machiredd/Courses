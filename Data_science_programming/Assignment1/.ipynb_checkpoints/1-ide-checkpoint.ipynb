{
 "cells": [
  {
   "cell_type": "markdown",
   "metadata": {},
   "source": [
    "# Integrated Development Environment: `pycharm`\n",
    "Many editors / IDE(s) are available. I recommend using pycharm. It is a complex piece of software with a bit of a learning curve, but for the most part you can learn as you go.\n",
    "\n",
    "## sub-UIs\n",
    "* Editor\n",
    "    * tabs\n",
    "    * splits\n",
    "    * breakpints\n",
    "    * code-folding\n",
    "    * inspection warnings/errors\n",
    "* Project\n",
    "* Favorites / Bookmarks\n",
    "* TODO\n",
    "* Version Control\n",
    "* Structure\n",
    "* Python Console\n",
    "* Terminal"
   ]
  },
  {
   "cell_type": "markdown",
   "metadata": {},
   "source": [
    "## code inspection, productivity, and navigation\n",
    "* code inspection continously checks for warnings and errors (shown in right gutter), including typing errors, when optional static typing is used. To see it in action, type in the following:"
   ]
  },
  {
   "cell_type": "code",
   "execution_count": 5,
   "metadata": {},
   "outputs": [
    {
     "name": "stdout",
     "output_type": "stream",
     "text": [
      "Overwriting inversion.py\n"
     ]
    }
   ],
   "source": [
    "%%file inversion.py\n",
    "from typing import List\n",
    "\n",
    "def inverse(X: List[float], numerator: int = 1) -> List[float]:\n",
    "    \"\"\"    \n",
    "    :param X: list of float elements to be inverted \n",
    "    :param numerator: numerator to be used, default is set to one\n",
    "    :return: list with inverted elements\n",
    "    \"\"\"\n",
    "    Y = []\n",
    "    for x in X:\n",
    "        y = numerator / x\n",
    "        Y.append(y)\n",
    "    return Y\n",
    "\n",
    "\n",
    "if __name__ == '__main__':  # type 'main' + Enter for template\n",
    "    X = range(1, 10)\n",
    "    Y = inverse(X)\n",
    "    print(list(zip(X, Y)))"
   ]
  },
  {
   "cell_type": "markdown",
   "metadata": {},
   "source": [
    "* autocompletion\n",
    "* refactor functionality for changing object names\n",
    "* go to definition\n",
    "* search \n",
    "    * symbols in path\n",
    "    * usages\n",
    "    * everywhere"
   ]
  },
  {
   "cell_type": "markdown",
   "metadata": {},
   "source": [
    "## run-configuration\n",
    "* choosing interpreters\n",
    "* manage anaconda packages"
   ]
  },
  {
   "cell_type": "markdown",
   "metadata": {},
   "source": [
    "## debugging tools\n",
    "* exceptions - try using `inverse(range(-10, 10))`\n",
    "* breakpoints (conditional)\n",
    "* stepping\n",
    "* frames\n",
    "* variables / watches\n",
    "* console"
   ]
  },
  {
   "cell_type": "markdown",
   "metadata": {},
   "source": [
    "## test-runners for unit-testing\n",
    "The purpose of unit-testing is to validate that each unit of the software performs as designed. Unit-tests should be run frequently during development, as they can quickly catch regressions. One can also write the unit-tests first as a _specification_. Here is an example using the built-in `unittest` module:"
   ]
  },
  {
   "cell_type": "code",
   "execution_count": 6,
   "metadata": {},
   "outputs": [
    {
     "name": "stdout",
     "output_type": "stream",
     "text": [
      "Overwriting test_inversion.py\n"
     ]
    }
   ],
   "source": [
    "%%file test_inversion.py\n",
    "import unittest\n",
    "from inversion import inverse\n",
    "\n",
    "\n",
    "class TestInverse(unittest.TestCase):\n",
    "    def setUp(self):\n",
    "        self.X = range(-10, 10)\n",
    "        \n",
    "    def tearDown(self):  # should this be required\n",
    "        pass\n",
    "    \n",
    "    def test_len(self):\n",
    "        self.assertEqual(len(self.X), len(inverse(self.X)))\n",
    "        \n",
    "    def test_known_value(self):\n",
    "        self.assertAlmostEqual(inverse([-9])[0], -0.1111, 4)"
   ]
  },
  {
   "cell_type": "markdown",
   "metadata": {},
   "source": [
    "In pycharm's preferences / Tools / Python Integrated Tools, set the Default test runner to unittest. When you then run test_inversion.py, it should automatically detect that it's for testing, and bring up the Testing sub-UI.\n",
    "\n",
    "Tests can be set to run automatically periodically.\n",
    "\n",
    "Many other testing frameworks exist, for example `doctest` and `nose`. For more information about unit-testing, see https://en.wikipedia.org/wiki/Unit_testing.\n",
    "\n",
    "You can also obtain information about how much of your code is covered by testing. To include coverage testing, enable 'Use bundled coverage' in Settings | Coverage, and then run 'with coverage'."
   ]
  },
  {
   "cell_type": "markdown",
   "metadata": {},
   "source": [
    "## profiling\n",
    "* Statistics\n",
    "* Callgraph"
   ]
  },
  {
   "cell_type": "markdown",
   "metadata": {},
   "source": [
    "## version control integration\n",
    "* editor shows added and deleted/modified sections in left gutter\n",
    "* view status of files in sub-UI\n",
    "* see differences\n",
    "* visual merge\n",
    "* log\n",
    "* branch support"
   ]
  },
  {
   "cell_type": "markdown",
   "metadata": {},
   "source": [
    "## customization and plug-ins\n",
    "* Preferences have hundreds of options, and support searching by term\n",
    "* many additional plug-ins available "
   ]
  }
 ],
 "metadata": {
  "anaconda-cloud": {},
  "kernelspec": {
   "display_name": "Python 3",
   "language": "python",
   "name": "python3"
  },
  "language_info": {
   "codemirror_mode": {
    "name": "ipython",
    "version": 3
   },
   "file_extension": ".py",
   "mimetype": "text/x-python",
   "name": "python",
   "nbconvert_exporter": "python",
   "pygments_lexer": "ipython3",
   "version": "3.4.2"
  }
 },
 "nbformat": 4,
 "nbformat_minor": 2
}
