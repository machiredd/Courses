{
 "cells": [
  {
   "cell_type": "markdown",
   "metadata": {},
   "source": [
    "## Image Registration : Point-set registration\n",
    "\n",
    "Image registration is a fundamental component in computer vision used to align two images and recover the transformation mapping one to another. For instance, these images can be of the same object taken at different times, using different sensors, or from different perspectives. Its main application domains include medical imaging, remote sensing, and motion tracking. Based on the transformations involved, registration is classified into:\n",
    "* Rigid image registration\n",
    "* Non-rigid image registration\n",
    "\n",
    "Rigid image registration methods align the images by performing rotation, scaling and translation, while non-rigid image registration methods align the images through non-rigid geometric transformations as shown in the figure below."
   ]
  },
  {
   "cell_type": "markdown",
   "metadata": {},
   "source": []
  }
 ],
 "metadata": {
  "kernelspec": {
   "display_name": "Python 3",
   "language": "python",
   "name": "python3"
  },
  "language_info": {
   "codemirror_mode": {
    "name": "ipython",
    "version": 3
   },
   "file_extension": ".py",
   "mimetype": "text/x-python",
   "name": "python",
   "nbconvert_exporter": "python",
   "pygments_lexer": "ipython3",
   "version": "3.4.2"
  }
 },
 "nbformat": 4,
 "nbformat_minor": 2
}
