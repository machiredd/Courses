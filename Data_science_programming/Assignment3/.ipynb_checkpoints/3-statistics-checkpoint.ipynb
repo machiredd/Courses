{
 "cells": [
  {
   "cell_type": "markdown",
   "metadata": {},
   "source": [
    "# Statistics\n",
    "Statistics concerns itself with the collection, analysis, interpretation, presentation, and summarization of data.\n",
    "\n",
    "\"There are three kinds of lies: lies, damned lies, and statistics.\" - British Prime Minister Benjamin Disraeli, according to Mark Twain."
   ]
  },
  {
   "cell_type": "code",
   "execution_count": 1,
   "metadata": {},
   "outputs": [],
   "source": [
    "import numpy as np\n",
    "import pandas as pd\n",
    "import matplotlib.pyplot as plt\n",
    "%matplotlib inline"
   ]
  },
  {
   "cell_type": "markdown",
   "metadata": {},
   "source": [
    "# scipy.stats"
   ]
  },
  {
   "cell_type": "code",
   "execution_count": 2,
   "metadata": {},
   "outputs": [],
   "source": [
    "from scipy import stats"
   ]
  },
  {
   "cell_type": "markdown",
   "metadata": {},
   "source": [
    "## random variables\n",
    "scipy.stats provides **many** distributions, both *continuous*:\n",
    "\n",
    "http://docs.scipy.org/doc/scipy/reference/tutorial/stats/continuous.html#continuous-random-variables\n",
    "\n",
    "and *discrete*:\n",
    "\n",
    "http://docs.scipy.org/doc/scipy/reference/tutorial/stats/discrete.html#discrete-random-variables\n",
    "\n",
    "Some well-known example distributions are the normal (`norm`), uniform (`uniform`), and the binomial (`binom`) distribution.\n",
    "\n",
    "Often-used methods for continuous RVs are:\n",
    "\n",
    "* rvs: Generate Random Variates\n",
    "* pdf: Probability Density Function\n",
    "* cdf: Cumulative Distribution Function\n",
    "* ppf: Percent Point Function (Inverse of CDF)"
   ]
  },
  {
   "cell_type": "code",
   "execution_count": 3,
   "metadata": {},
   "outputs": [
    {
     "data": {
      "text/plain": [
       "0.5"
      ]
     },
     "execution_count": 3,
     "metadata": {},
     "output_type": "execute_result"
    }
   ],
   "source": [
    "n = stats.norm(loc=1, scale=1)  # normal distribution\n",
    "n.cdf(1)  # also takes vector arguments"
   ]
  },
  {
   "cell_type": "code",
   "execution_count": 4,
   "metadata": {},
   "outputs": [
    {
     "data": {
      "text/plain": [
       "1.0"
      ]
     },
     "execution_count": 4,
     "metadata": {},
     "output_type": "execute_result"
    }
   ],
   "source": [
    "n.ppf(0.5)"
   ]
  },
  {
   "cell_type": "code",
   "execution_count": 5,
   "metadata": {},
   "outputs": [
    {
     "data": {
      "text/plain": [
       "0.5"
      ]
     },
     "execution_count": 5,
     "metadata": {},
     "output_type": "execute_result"
    }
   ],
   "source": [
    "u = stats.uniform(loc=0, scale=1)\n",
    "u.mean()"
   ]
  },
  {
   "cell_type": "code",
   "execution_count": 6,
   "metadata": {},
   "outputs": [
    {
     "data": {
      "text/plain": [
       "(array([ 0.18700852,  0.82659582, -1.23606696,  0.85466475,  0.26592878]),\n",
       " array([0.35754149, 0.07874068, 0.49555971, 0.43540264, 0.1856933 ]))"
      ]
     },
     "execution_count": 6,
     "metadata": {},
     "output_type": "execute_result"
    }
   ],
   "source": [
    "n.rvs(size=5), u.rvs(size=5)"
   ]
  },
  {
   "cell_type": "code",
   "execution_count": 7,
   "metadata": {},
   "outputs": [
    {
     "name": "stdout",
     "output_type": "stream",
     "text": [
      "0.3745401188473625\n"
     ]
    }
   ],
   "source": [
    "x = u.rvs(random_state=42)  # seeding random number generator for reproducability\n",
    "print(x)  # should be 0.37454 and change"
   ]
  },
  {
   "cell_type": "code",
   "execution_count": 8,
   "metadata": {},
   "outputs": [
    {
     "data": {
      "text/plain": [
       "DescribeResult(nobs=6, minmax=(1, 9), mean=5.0, variance=9.2, skewness=-0.1413225231876421, kurtosis=-1.2703213610586013)"
      ]
     },
     "execution_count": 8,
     "metadata": {},
     "output_type": "execute_result"
    }
   ],
   "source": [
    "data = [1, 2, 5, 6, 7, 9]\n",
    "stats.describe(data)"
   ]
  },
  {
   "cell_type": "code",
   "execution_count": 9,
   "metadata": {},
   "outputs": [
    {
     "name": "stdout",
     "output_type": "stream",
     "text": [
      "4.998844250789079 1.0120808525127434\n"
     ]
    },
    {
     "data": {
      "image/png": "[encoded data removed]",
      "text/plain": [
       "<matplotlib.figure.Figure at 0x1a1073d710>"
      ]
     },
     "metadata": {},
     "output_type": "display_data"
    }
   ],
   "source": [
    "data = stats.norm.rvs(loc=5, scale=1, size=1000)  # try different distributions, e.g. arcsine, uniform\n",
    "model = stats.norm  # try matching / non-matching distributions: norm / \n",
    "\n",
    "loc, scale = model.fit(data)\n",
    "print(loc, scale)\n",
    "\n",
    "plt.hist(data, 50, normed=True)\n",
    "x = np.linspace(data.min(), data.max(), 100)\n",
    "plt.plot(x, model(loc, scale).pdf(x));"
   ]
  },
  {
   "cell_type": "markdown",
   "metadata": {},
   "source": [
    "## significance testing\n",
    "If you need to test whether data is normally distributed, `normaltest` tests the null hypothesis that the sample comes from a normal distribution:"
   ]
  },
  {
   "cell_type": "code",
   "execution_count": 10,
   "metadata": {},
   "outputs": [
    {
     "data": {
      "text/plain": [
       "NormaltestResult(statistic=0.4739416831753359, pvalue=0.7890142940863207)"
      ]
     },
     "execution_count": 10,
     "metadata": {},
     "output_type": "execute_result"
    }
   ],
   "source": [
    "stats.normaltest(data)"
   ]
  },
  {
   "cell_type": "markdown",
   "metadata": {},
   "source": [
    "The $p$-value is the probability of obtaining a result equal to or \"more extreme\" than what was actually observed, when the null hypothesis is true. For a typical analysis, using a standard $\\alpha$ = 0.05 cutoff, the null hypothesis is rejected when $p$ < .05 (but this does *not prove* that the alternative hypothesis is true), and not rejected when $p$ > .05.\n",
    "\n",
    "To test whether the *mean* of our sample data differs in a statistically significant way from the theoretical expectation, use the $t$-test:"
   ]
  },
  {
   "cell_type": "code",
   "execution_count": 11,
   "metadata": {},
   "outputs": [
    {
     "data": {
      "text/plain": [
       "Ttest_1sampResult(statistic=-0.036093678132022924, pvalue=0.9712148738044961)"
      ]
     },
     "execution_count": 11,
     "metadata": {},
     "output_type": "execute_result"
    }
   ],
   "source": [
    "stats.ttest_1samp(data, 5)"
   ]
  },
  {
   "cell_type": "markdown",
   "metadata": {},
   "source": [
    "Specifically, this is a two-sided test for the null hypothesis that the expected value (mean) of a sample of independent observations is equal to the given population mean.\n",
    "\n",
    "Many other standard tests are available (e.g. Wilcoxon, Kolmogorov-Smirnov)."
   ]
  },
  {
   "cell_type": "markdown",
   "metadata": {},
   "source": [
    "# statsmodels\n",
    "Statsmodels is a Python module that allows users to explore data, estimate statistical models, and perform statistical tests. An extensive list of descriptive statistics, statistical tests, plotting functions, and result statistics are available for different types of data and each estimator. Researchers across fields may find that statsmodels fully meets their needs for statistical computing and data analysis in Python. Features include:\n",
    "\n",
    "* Linear regression models\n",
    "* Generalized linear models\n",
    "* Kernel density estimation\n",
    "* Analysis of Variance (ANOVA)\n",
    "* A wide range of statistical tests\n",
    "* A collection of datasets for examples\n",
    "* Input-output tools for producing tables in a number of formats (Text, LaTex, HTML)\n",
    "* Plotting functions\n",
    "\n",
    "Install it via\n",
    "\n",
    "    conda install statsmodels\n",
    "\n",
    "See also http://www.statsmodels.org."
   ]
  },
  {
   "cell_type": "code",
   "execution_count": 12,
   "metadata": {},
   "outputs": [
    {
     "name": "stderr",
     "output_type": "stream",
     "text": [
      "/Users/kain/miniconda3/lib/python3.6/site-packages/statsmodels/compat/pandas.py:56: FutureWarning: The pandas.core.datetools module is deprecated and will be removed in a future version. Please use the pandas.tseries module instead.\n",
      "  from pandas.core import datetools\n"
     ]
    },
    {
     "data": {
      "text/plain": [
       "'0.8.0'"
      ]
     },
     "execution_count": 12,
     "metadata": {},
     "output_type": "execute_result"
    }
   ],
   "source": [
    "import statsmodels.api as sm\n",
    "sm.version.version"
   ]
  },
  {
   "cell_type": "markdown",
   "metadata": {},
   "source": [
    "## Linear Regression\n",
    "Suppose the data consists of $n$ observations $\\{\\mathbf{x}_i, y_i\\}_{i=1}^n$. Each observation includes a scalar response $y_i$ (also known as the regressand, endogenous or dependent variable) to a vector of p predictors (or regressors, exogenous, or independent variables) $\\mathbf{x}_i = [x_1, x_2, \\ldots, x_p]_i$. In a linear regression model the response variable is a linear function of the regressors:\n",
    "\n",
    "\n",
    "   $y_i = \\mathbf{x}_i^T \\beta + \\varepsilon_i, \\forall i$\n",
    "  \n",
    "where\n",
    "* $\\beta$ is a $p\\times1$ vector of unknown parameters\n",
    "* $\\varepsilon_i$ are unobserved scalar random variables (errors) which account for the discrepancy between the actually observed responses $y_i$ and the predicted outcomes $\\hat{y} = \\mathbf{x}_i^T \\beta$. It is assumed that $\\varepsilon \\sim N(0, \\sigma^2)$.\n",
    "* T denotes matrix transpose, so that $\\mathbf{x}_i^T \\beta$ is the dot product between the vectors x and β.\n",
    "\n",
    "This model can also be written in matrix notation as\n",
    "\n",
    "\n",
    "   $\\mathbf{y} = \\mathbf{X}\\beta + \\mathbf\\varepsilon,$\n",
    "  \n",
    "where $\\mathbf{y}$ and $\\mathbf\\varepsilon$ are $n\\times1$ vectors, and $\\mathbf{X}$ is an $n×p$ matrix of regressors, which is also sometimes called the design matrix.\n",
    "\n",
    "As a rule, a constant term is always included in the set of regressors, say, by taking $x_{i,1} = 1$ for all $i = 1, …, n$. The coefficient $\\beta_1$ corresponding to this regressor is called the intercept.\n",
    "### Ordinary Least Squares (OLS) estimation\n",
    "This is used when it can be assumed that the errors are *independently* and *identically* distributed, i.e. $\\Sigma = \\mathbf{I}$."
   ]
  },
  {
   "cell_type": "code",
   "execution_count": 13,
   "metadata": {},
   "outputs": [
    {
     "data": {
      "text/plain": [
       "array([[1.        , 0.        , 0.        ],\n",
       "       [1.        , 0.25641026, 0.06574622],\n",
       "       [1.        , 0.51282051, 0.26298488],\n",
       "       [1.        , 0.76923077, 0.59171598],\n",
       "       [1.        , 1.02564103, 1.05193951],\n",
       "       [1.        , 1.28205128, 1.64365549],\n",
       "       [1.        , 1.53846154, 2.36686391],\n",
       "       [1.        , 1.79487179, 3.22156476],\n",
       "       [1.        , 2.05128205, 4.20775805],\n",
       "       [1.        , 2.30769231, 5.32544379]])"
      ]
     },
     "execution_count": 13,
     "metadata": {},
     "output_type": "execute_result"
    }
   ],
   "source": [
    "# Make some artificial data\n",
    "N = 40  # vary the number of data points\n",
    "x = np.linspace(0, 10, N)\n",
    "X = np.c_[x, x**2]\n",
    "# alternative ways:\n",
    "# X = np.column_stack((x, x**2))  \n",
    "# X = np.vstack([x, x**2]).T\n",
    "X = sm.add_constant(X)  # constant term to accomodate the intercept\n",
    "X[:10]"
   ]
  },
  {
   "cell_type": "code",
   "execution_count": 14,
   "metadata": {},
   "outputs": [
    {
     "data": {
      "image/png": "[encoded data removed]",
      "text/plain": [
       "<matplotlib.figure.Figure at 0x1c1a46e128>"
      ]
     },
     "metadata": {},
     "output_type": "display_data"
    }
   ],
   "source": [
    "beta_true = np.array([1, 0.1, 10]) # let's create a linear relationship\n",
    "y_true = X @ beta_true  # recall that `@` is matrix multiplication\n",
    "e = stats.norm.rvs(loc=0, scale=100, size=len(X))  # vary the scale parameter\n",
    "y = y_true + e  # adding noise\n",
    "\n",
    "plt.figure(figsize=(16,6))\n",
    "plt.plot(y_true, 'o-')\n",
    "plt.plot(y, 'o')\n",
    "plt.legend(['$y_{true}$', '$y$']);"
   ]
  },
  {
   "cell_type": "code",
   "execution_count": 15,
   "metadata": {},
   "outputs": [
    {
     "name": "stdout",
     "output_type": "stream",
     "text": [
      "                            OLS Regression Results                            \n",
      "==============================================================================\n",
      "Dep. Variable:                      y   R-squared:                       0.896\n",
      "Model:                            OLS   Adj. R-squared:                  0.890\n",
      "Method:                 Least Squares   F-statistic:                     158.9\n",
      "Date:                Thu, 25 Jan 2018   Prob (F-statistic):           6.87e-19\n",
      "Time:                        16:10:53   Log-Likelihood:                -245.67\n",
      "No. Observations:                  40   AIC:                             497.3\n",
      "Df Residuals:                      37   BIC:                             502.4\n",
      "Df Model:                           2                                         \n",
      "Covariance Type:            nonrobust                                         \n",
      "==============================================================================\n",
      "                 coef    std err          t      P>|t|      [0.025      0.975]\n",
      "------------------------------------------------------------------------------\n",
      "const         -9.9902     52.820     -0.189      0.851    -117.014      97.034\n",
      "x1            -7.3138     24.437     -0.299      0.766     -56.828      42.200\n",
      "x2            11.4509      2.362      4.847      0.000       6.664      16.238\n",
      "==============================================================================\n",
      "Omnibus:                        3.278   Durbin-Watson:                   2.389\n",
      "Prob(Omnibus):                  0.194   Jarque-Bera (JB):                2.739\n",
      "Skew:                           0.530   Prob(JB):                        0.254\n",
      "Kurtosis:                       2.278   Cond. No.                         142.\n",
      "==============================================================================\n",
      "\n",
      "Warnings:\n",
      "[1] Standard Errors assume that the covariance matrix of the errors is correctly specified.\n"
     ]
    }
   ],
   "source": [
    "model = sm.OLS(y, X)\n",
    "result = model.fit()\n",
    "print(result.summary())"
   ]
  },
  {
   "cell_type": "code",
   "execution_count": 16,
   "metadata": {},
   "outputs": [
    {
     "data": {
      "text/plain": [
       "array([-9.99017174, -7.31375978, 11.45088142])"
      ]
     },
     "execution_count": 16,
     "metadata": {},
     "output_type": "execute_result"
    }
   ],
   "source": [
    "beta = result.params\n",
    "beta  # compare to beta_true = np.array([1, 0.1, 10])"
   ]
  },
  {
   "cell_type": "markdown",
   "metadata": {},
   "source": [
    "The *coefficient of determination*, denoted $R^2$ or $r^2$ and pronounced \"R squared\", is a number that indicates the proportion of the variance in the dependent variable that is predictable from the independent variable, thus giving some information about the goodness of fit of a model. In regression, $r^2$ is a statistical measure of how well the regression line approximates the real data points. An $r^2$ of 1 indicates that the regression line fits the data perfectly."
   ]
  },
  {
   "cell_type": "code",
   "execution_count": 17,
   "metadata": {},
   "outputs": [
    {
     "name": "stdout",
     "output_type": "stream",
     "text": [
      "0.8957165902513075\n"
     ]
    }
   ],
   "source": [
    "print(result.rsquared)  # how good is this fit?"
   ]
  },
  {
   "cell_type": "code",
   "execution_count": 18,
   "metadata": {},
   "outputs": [
    {
     "data": {
      "image/png": "[encoded data removed]",
      "text/plain": [
       "<matplotlib.figure.Figure at 0x1c1af73e80>"
      ]
     },
     "metadata": {},
     "output_type": "display_data"
    }
   ],
   "source": [
    "y_hat = X @ beta\n",
    "\n",
    "plt.figure(figsize=(16,6))\n",
    "plt.plot(y_true)\n",
    "plt.plot(y, '.')\n",
    "plt.plot(y_hat)\n",
    "plt.legend(['$y_{true}$',\n",
    "            '$y$', \n",
    "            r'$\\hat{y}$']);"
   ]
  },
  {
   "cell_type": "markdown",
   "metadata": {},
   "source": [
    "Alternatively, and arguably more elegantly, one can use `R`-style formulas together with `pandas` data frames:"
   ]
  },
  {
   "cell_type": "code",
   "execution_count": 19,
   "metadata": {},
   "outputs": [],
   "source": [
    "import statsmodels.formula.api as smf\n",
    "\n",
    "df = pd.DataFrame(np.c_[x, x**2, y], \n",
    "                  columns=['x1', 'x2', 'y'])  # leaving out the intercept, implied\n",
    "result2 = smf.ols('y ~ x1 + x2', data=df).fit()\n",
    "\n",
    "assert np.allclose(result.params, result2.params)"
   ]
  },
  {
   "cell_type": "markdown",
   "metadata": {},
   "source": [
    "For more information how these formulas can be specified, see: https://patsy.readthedocs.io/en/latest/formulas.html"
   ]
  },
  {
   "cell_type": "markdown",
   "metadata": {},
   "source": [
    "### Confidence Intervals\n",
    "Consider a slightly different example:"
   ]
  },
  {
   "cell_type": "code",
   "execution_count": 20,
   "metadata": {},
   "outputs": [],
   "source": [
    "x = np.linspace(0, 20, 50)\n",
    "X = np.c_[(x, np.sin(x), (x - 5)**2)]\n",
    "X = sm.add_constant(X)  # constant term to accomodate the intercept\n",
    "beta_true = [5., 0.5, 0.5, -0.02]\n",
    "y_true = X @ beta_true\n",
    "\n",
    "y = y_true + stats.norm.rvs(loc=0, scale=0.5, size=len(X))\n",
    "\n",
    "result = sm.OLS(y, X).fit()"
   ]
  },
  {
   "cell_type": "markdown",
   "metadata": {},
   "source": [
    "Now let's calculate and draw confidence intervals:"
   ]
  },
  {
   "cell_type": "code",
   "execution_count": 21,
   "metadata": {},
   "outputs": [
    {
     "data": {
      "image/png": "[encoded data removed]",
      "text/plain": [
       "<matplotlib.figure.Figure at 0x1c1b75bb38>"
      ]
     },
     "metadata": {},
     "output_type": "display_data"
    }
   ],
   "source": [
    "from statsmodels.sandbox.regression.predstd import wls_prediction_std\n",
    "prstd, iv_l, iv_u = wls_prediction_std(result)\n",
    "\n",
    "fig, ax = plt.subplots(figsize=(12, 8))\n",
    "\n",
    "ax.plot(x, y, 'b', label=\"$y$\")\n",
    "ax.plot(x, y_true, 'g', label=\"$y_{true}$\")\n",
    "ax.plot(x, result.fittedvalues, 'r', label=r\"$\\hat{y}$\")\n",
    "ax.plot(x, iv_u, 'r--')\n",
    "ax.plot(x, iv_l, 'r--')\n",
    "ax.legend(loc='best');"
   ]
  },
  {
   "cell_type": "markdown",
   "metadata": {},
   "source": [
    "## ANOVA"
   ]
  },
  {
   "cell_type": "markdown",
   "metadata": {},
   "source": [
    "Analysis of variance (ANOVA) is used to analyze the differences among three or more *group* means."
   ]
  },
  {
   "cell_type": "code",
   "execution_count": 22,
   "metadata": {},
   "outputs": [
    {
     "data": {
      "text/html": [
       "<div>\n",
       "<style scoped>\n",
       "    .dataframe tbody tr th:only-of-type {\n",
       "        vertical-align: middle;\n",
       "    }\n",
       "\n",
       "    .dataframe tbody tr th {\n",
       "        vertical-align: top;\n",
       "    }\n",
       "\n",
       "    .dataframe thead th {\n",
       "        text-align: right;\n",
       "    }\n",
       "</style>\n",
       "<table border=\"1\" class=\"dataframe\">\n",
       "  <thead>\n",
       "    <tr style=\"text-align: right;\">\n",
       "      <th></th>\n",
       "      <th>partner_status</th>\n",
       "      <th>conformity</th>\n",
       "      <th>fcategory</th>\n",
       "      <th>fscore</th>\n",
       "    </tr>\n",
       "  </thead>\n",
       "  <tbody>\n",
       "    <tr>\n",
       "      <th>0</th>\n",
       "      <td>low</td>\n",
       "      <td>8</td>\n",
       "      <td>low</td>\n",
       "      <td>37</td>\n",
       "    </tr>\n",
       "    <tr>\n",
       "      <th>1</th>\n",
       "      <td>low</td>\n",
       "      <td>4</td>\n",
       "      <td>high</td>\n",
       "      <td>57</td>\n",
       "    </tr>\n",
       "    <tr>\n",
       "      <th>2</th>\n",
       "      <td>low</td>\n",
       "      <td>8</td>\n",
       "      <td>high</td>\n",
       "      <td>65</td>\n",
       "    </tr>\n",
       "    <tr>\n",
       "      <th>3</th>\n",
       "      <td>low</td>\n",
       "      <td>7</td>\n",
       "      <td>low</td>\n",
       "      <td>20</td>\n",
       "    </tr>\n",
       "    <tr>\n",
       "      <th>4</th>\n",
       "      <td>low</td>\n",
       "      <td>10</td>\n",
       "      <td>low</td>\n",
       "      <td>36</td>\n",
       "    </tr>\n",
       "    <tr>\n",
       "      <th>5</th>\n",
       "      <td>low</td>\n",
       "      <td>6</td>\n",
       "      <td>low</td>\n",
       "      <td>18</td>\n",
       "    </tr>\n",
       "    <tr>\n",
       "      <th>6</th>\n",
       "      <td>low</td>\n",
       "      <td>12</td>\n",
       "      <td>medium</td>\n",
       "      <td>51</td>\n",
       "    </tr>\n",
       "    <tr>\n",
       "      <th>7</th>\n",
       "      <td>low</td>\n",
       "      <td>4</td>\n",
       "      <td>medium</td>\n",
       "      <td>44</td>\n",
       "    </tr>\n",
       "    <tr>\n",
       "      <th>8</th>\n",
       "      <td>low</td>\n",
       "      <td>13</td>\n",
       "      <td>low</td>\n",
       "      <td>31</td>\n",
       "    </tr>\n",
       "    <tr>\n",
       "      <th>9</th>\n",
       "      <td>low</td>\n",
       "      <td>12</td>\n",
       "      <td>low</td>\n",
       "      <td>36</td>\n",
       "    </tr>\n",
       "    <tr>\n",
       "      <th>10</th>\n",
       "      <td>low</td>\n",
       "      <td>4</td>\n",
       "      <td>medium</td>\n",
       "      <td>42</td>\n",
       "    </tr>\n",
       "  </tbody>\n",
       "</table>\n",
       "</div>"
      ],
      "text/plain": [
       "   partner_status  conformity fcategory  fscore\n",
       "0             low           8       low      37\n",
       "1             low           4      high      57\n",
       "2             low           8      high      65\n",
       "3             low           7       low      20\n",
       "4             low          10       low      36\n",
       "5             low           6       low      18\n",
       "6             low          12    medium      51\n",
       "7             low           4    medium      44\n",
       "8             low          13       low      31\n",
       "9             low          12       low      36\n",
       "10            low           4    medium      42"
      ]
     },
     "execution_count": 22,
     "metadata": {},
     "output_type": "execute_result"
    }
   ],
   "source": [
    "moore = sm.datasets.get_rdataset(\"Moore\", \"car\", cache=True)  # load data\n",
    "data = moore.data\n",
    "data = data.rename(columns={\"partner.status\" : \"partner_status\"})  # make name pythonic\n",
    "data.loc[:10]"
   ]
  },
  {
   "cell_type": "code",
   "execution_count": 23,
   "metadata": {
    "scrolled": true
   },
   "outputs": [
    {
     "data": {
      "text/html": [
       "<div>\n",
       "<style scoped>\n",
       "    .dataframe tbody tr th:only-of-type {\n",
       "        vertical-align: middle;\n",
       "    }\n",
       "\n",
       "    .dataframe tbody tr th {\n",
       "        vertical-align: top;\n",
       "    }\n",
       "\n",
       "    .dataframe thead th {\n",
       "        text-align: right;\n",
       "    }\n",
       "</style>\n",
       "<table border=\"1\" class=\"dataframe\">\n",
       "  <thead>\n",
       "    <tr style=\"text-align: right;\">\n",
       "      <th></th>\n",
       "      <th>sum_sq</th>\n",
       "      <th>df</th>\n",
       "      <th>F</th>\n",
       "      <th>PR(&gt;F)</th>\n",
       "    </tr>\n",
       "  </thead>\n",
       "  <tbody>\n",
       "    <tr>\n",
       "      <th>C(fcategory, Sum)</th>\n",
       "      <td>11.614700</td>\n",
       "      <td>2.0</td>\n",
       "      <td>0.276958</td>\n",
       "      <td>0.759564</td>\n",
       "    </tr>\n",
       "    <tr>\n",
       "      <th>C(partner_status, Sum)</th>\n",
       "      <td>212.213778</td>\n",
       "      <td>1.0</td>\n",
       "      <td>10.120692</td>\n",
       "      <td>0.002874</td>\n",
       "    </tr>\n",
       "    <tr>\n",
       "      <th>C(fcategory, Sum):C(partner_status, Sum)</th>\n",
       "      <td>175.488928</td>\n",
       "      <td>2.0</td>\n",
       "      <td>4.184623</td>\n",
       "      <td>0.022572</td>\n",
       "    </tr>\n",
       "    <tr>\n",
       "      <th>Residual</th>\n",
       "      <td>817.763961</td>\n",
       "      <td>39.0</td>\n",
       "      <td>NaN</td>\n",
       "      <td>NaN</td>\n",
       "    </tr>\n",
       "  </tbody>\n",
       "</table>\n",
       "</div>"
      ],
      "text/plain": [
       "                                              sum_sq    df          F  \\\n",
       "C(fcategory, Sum)                          11.614700   2.0   0.276958   \n",
       "C(partner_status, Sum)                    212.213778   1.0  10.120692   \n",
       "C(fcategory, Sum):C(partner_status, Sum)  175.488928   2.0   4.184623   \n",
       "Residual                                  817.763961  39.0        NaN   \n",
       "\n",
       "                                            PR(>F)  \n",
       "C(fcategory, Sum)                         0.759564  \n",
       "C(partner_status, Sum)                    0.002874  \n",
       "C(fcategory, Sum):C(partner_status, Sum)  0.022572  \n",
       "Residual                                       NaN  "
      ]
     },
     "execution_count": 23,
     "metadata": {},
     "output_type": "execute_result"
    }
   ],
   "source": [
    "moore_lm = smf.ols('conformity ~ C(fcategory, Sum) * C(partner_status, Sum)', \n",
    "                   data=data).fit()  # C sets contrasts for a factor\n",
    "sm.stats.anova_lm(moore_lm, typ=2) # Type 2 ANOVA DataFrame"
   ]
  },
  {
   "cell_type": "markdown",
   "metadata": {},
   "source": [
    "For an interpretation and a more detailed example, please see: http://statsmodels.sourceforge.net/devel/examples/notebooks/generated/interactions_anova.html"
   ]
  },
  {
   "cell_type": "markdown",
   "metadata": {},
   "source": [
    "## Graphics\n",
    "Basic graphing tools relevant for statistics are included: Goodness of fit, Correlation, Functional, Regression, Time Series, and others.\n",
    "\n",
    "### Q–Q plot\n",
    "A Q-Q plot (\"Q\" stands for quantiles, contiguous intervals with equal probabilities) is a probability plot comparing two probability distributions by plotting their quantiles against each other. If the two distributions being compared are similar, the points in the Q–Q plot will approximately lie on the line $y = x$. If the distributions are linearly related, the points in the Q–Q plot will approximately lie on a line, but not necessarily on the line $y = x$. "
   ]
  },
  {
   "cell_type": "code",
   "execution_count": 24,
   "metadata": {},
   "outputs": [
    {
     "data": {
      "image/png": "[encoded data removed]",
      "text/plain": [
       "<matplotlib.figure.Figure at 0x1c1b125940>"
      ]
     },
     "metadata": {},
     "output_type": "display_data"
    }
   ],
   "source": [
    "data = sm.datasets.longley.load()\n",
    "data.exog = sm.add_constant(data.exog)\n",
    "mod_fit = sm.OLS(data.endog, data.exog).fit()\n",
    "res = mod_fit.resid # residuals\n",
    "fig = sm.qqplot(res)"
   ]
  },
  {
   "cell_type": "markdown",
   "metadata": {},
   "source": [
    "### Correlation Matrix"
   ]
  },
  {
   "cell_type": "code",
   "execution_count": 25,
   "metadata": {},
   "outputs": [
    {
     "data": {
      "image/png": "[encoded data removed]",
      "text/plain": [
       "<matplotlib.figure.Figure at 0x1c1a71b208>"
      ]
     },
     "metadata": {},
     "output_type": "display_data"
    }
   ],
   "source": [
    "hie_data = sm.datasets.randhie.load_pandas()\n",
    "corr_matrix = np.corrcoef(hie_data.data.T)\n",
    "sm.graphics.plot_corr(corr_matrix, xnames=hie_data.names);"
   ]
  },
  {
   "cell_type": "markdown",
   "metadata": {},
   "source": [
    "### Mosaic / Tree Map"
   ]
  },
  {
   "cell_type": "code",
   "execution_count": 26,
   "metadata": {},
   "outputs": [
    {
     "data": {
      "image/png": "[encoded data removed]",
      "text/plain": [
       "<matplotlib.figure.Figure at 0x1c1a70ea20>"
      ]
     },
     "metadata": {},
     "output_type": "display_data"
    }
   ],
   "source": [
    "from statsmodels.graphics.mosaicplot import mosaic\n",
    "\n",
    "data = {'a': 10, 'b': 25, 'c': 16}\n",
    "mosaic(data, title='basic dictionary');"
   ]
  },
  {
   "cell_type": "code",
   "execution_count": 27,
   "metadata": {},
   "outputs": [
    {
     "name": "stdout",
     "output_type": "stream",
     "text": [
      "   gender  pet\n",
      "0    male  cat\n",
      "1    male  dog\n",
      "2    male  dog\n",
      "3  female  cat\n",
      "4  female  dog\n",
      "5  female  cat\n"
     ]
    },
    {
     "data": {
      "image/png": "[encoded data removed]",
      "text/plain": [
       "<matplotlib.figure.Figure at 0x1c1bf49470>"
      ]
     },
     "metadata": {},
     "output_type": "display_data"
    }
   ],
   "source": [
    "gender = ['male', 'male', 'male', 'female', 'female', 'female']\n",
    "pet = ['cat', 'dog', 'dog', 'cat', 'dog', 'cat']\n",
    "data = pd.DataFrame({'gender': gender, 'pet': pet})\n",
    "print(data)\n",
    "\n",
    "mosaic(data, ['pet', 'gender']);"
   ]
  },
  {
   "cell_type": "markdown",
   "metadata": {},
   "source": [
    "## Further Reading"
   ]
  },
  {
   "cell_type": "markdown",
   "metadata": {},
   "source": [
    "Many more sophisticated functions are provided by statsmodels.stats:\n",
    "\n",
    "* Residual Diagnostics and Specification Tests (e.g. \"Breush-Pagan Lagrange Multiplier test for heteroscedasticity\")\n",
    "* Outliers and influence measures\n",
    "* Sandwich Robust Covariances\n",
    "* Goodness of Fit Tests and Measures\n",
    "* Non-Parametric Tests (e.g. \"McNemar test\")\n",
    "* Interrater Reliability and Agreement (e.g. \"Cohen’s Kappa\")\n",
    "* Multiple Tests and Multiple Comparison Procedures (e.g. \"Tukey test\")\n",
    "* $t$-tests with frequency weights\n",
    "* Power and Sample Size Calculations\n",
    "* Hypothesis testing, confidence intervals and effect size for *proportions*\n",
    "* Moment Helpers (i.e. ensuring a proper covariance matrix)\n",
    "\n",
    "For more information, see: http://statsmodels.sourceforge.net/stable/stats.html"
   ]
  }
 ],
 "metadata": {
  "anaconda-cloud": {},
  "kernelspec": {
   "display_name": "Python 3",
   "language": "python",
   "name": "python3"
  },
  "language_info": {
   "codemirror_mode": {
    "name": "ipython",
    "version": 3
   },
   "file_extension": ".py",
   "mimetype": "text/x-python",
   "name": "python",
   "nbconvert_exporter": "python",
   "pygments_lexer": "ipython3",
   "version": "3.4.2"
  }
 },
 "nbformat": 4,
 "nbformat_minor": 1
}
