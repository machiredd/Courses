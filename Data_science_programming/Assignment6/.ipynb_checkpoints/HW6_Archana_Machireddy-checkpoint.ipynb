{
 "cells": [
  {
   "cell_type": "markdown",
   "metadata": {},
   "source": [
    "## Part 1"
   ]
  },
  {
   "cell_type": "code",
   "execution_count": 9,
   "metadata": {},
   "outputs": [
    {
     "name": "stdout",
     "output_type": "stream",
     "text": [
      "1. Total size of dataset is 1746235959 bytes or 1.746235959Gb\n",
      "2. There are 500630 articles in the data set\n"
     ]
    }
   ],
   "source": [
    "from lxml import html\n",
    "import requests\n",
    "import wget\n",
    "import os\n",
    "import json\n",
    "\n",
    "data_page=\"https://dmice.ohsu.edu/bedricks/\"\n",
    "page=requests.get(data_page)\n",
    "tree=html.fromstring(page.content)\n",
    "z = tree.cssselect(\"ul li a\")\n",
    "size=0\n",
    "articles=0\n",
    "for i in range(len(z)):\n",
    "    a= z[i].attrib[\"href\"][2:]\n",
    "    size += os.path.getsize(a)\n",
    "    articles += sum(1 for line in open(a))\n",
    "\n",
    "    \n",
    "print(\"1. Total size of dataset is {} bytes or {}Gb\".format(size, size/1000**3))\n",
    "print(\"2. There are {} articles in the data set\".format(articles))"
   ]
  },
  {
   "cell_type": "code",
   "execution_count": null,
   "metadata": {},
   "outputs": [],
   "source": [
    "for i in range(len(z)):\n",
    "    a= \"https://dmice.ohsu.edu/bedricks/{}\".format(z[i].attrib[\"href\"][2:])\n",
    "    wget.download(a)"
   ]
  },
  {
   "cell_type": "markdown",
   "metadata": {},
   "source": [
    "## Part 2 \n",
    "\n"
   ]
  },
  {
   "cell_type": "code",
   "execution_count": 10,
   "metadata": {},
   "outputs": [
    {
     "name": "stdout",
     "output_type": "stream",
     "text": [
      "1. 54 years of data is represented in the dataset\n",
      "2. Oldest record in from 1962, and the newest from 2016\n",
      "3. Year 2001 had the highest number of clinical trials(30053)\n",
      "4. The first DOI was indexed in 1975\n",
      "5. H Tanaka H is the most prolific author with 235 articles\n",
      "6. The ten most common MeSH index major headings associated with clinical trials are:\n",
      "MeSH Heading                               Articles\n",
      "---------------------------------------  ----------\n",
      "Quality of Life                                2845\n",
      "Coronary Artery Bypass                         1968\n",
      "Stents                                         1953\n",
      "Renal Dialysis                                 1779\n",
      "Exercise                                       1757\n",
      "Kidney Transplantation                         1721\n",
      "Premedication                                  1639\n",
      "Magnetic Resonance Imaging                     1536\n",
      "Dietary Supplements                            1448\n",
      "Hematopoietic Stem Cell Transplantation        1441\n",
      "7. Average number of words in an abstract are 1418\n"
     ]
    }
   ],
   "source": [
    "from collections import defaultdict\n",
    "from tabulate import tabulate\n",
    "\n",
    "def get_author_list(author_list, from_doc):\n",
    "    for names in from_doc:\n",
    "        a=\"\"\n",
    "        for key in names.keys():\n",
    "            a = a + names[key] + \" \"\n",
    "        author_list[a]+=1\n",
    "    return author_list\n",
    "\n",
    "def get_mesh_index(mesh_index, mesh_head):\n",
    "    for mesh in j_content[\"mesh_headings\"]:\n",
    "        if mesh[\"major\"] == True:\n",
    "            mesh_index[mesh[\"descriptor_name\"]] += 1  \n",
    "    return mesh_index\n",
    "\n",
    "\n",
    "years = defaultdict(int)\n",
    "authors = defaultdict(int)\n",
    "mesh_index = defaultdict(int)\n",
    "\n",
    "done=0\n",
    "count=0\n",
    "abstract_len=0\n",
    "\n",
    "for i in range(len(z)):\n",
    "    a= z[i].attrib[\"href\"][2:]\n",
    "    with open(a) as f:\n",
    "        for line in f:\n",
    "            j_content = json.loads(line)\n",
    "            years[j_content['year']] += 1\n",
    "            authors = get_author_list(authors,j_content[\"authors\"])\n",
    "            if \"mesh_headings\" in j_content.keys():\n",
    "                mesh_index = get_mesh_index(mesh_index, j_content)\n",
    "            if \"abstract\" in j_content.keys():\n",
    "                abstract_len += len(j_content[\"abstract\"])\n",
    "                count += 1\n",
    "            if (done == 0 and 'doi' in j_content.keys()):\n",
    "                doi_init = j_content['year']\n",
    "                done = 1\n",
    "                \n",
    "years_number=max(years.items())[0] - min(years.items())[0]\n",
    "largest = max(years.items(), key=lambda x: x[1])\n",
    "most_articles = max(authors.items(), key=lambda x: x[1])\n",
    "sorted_mesh = sorted(mesh_index.items(), key=lambda x: x[1],reverse=True)\n",
    "\n",
    "print(\"1. {} years of data is represented in the dataset\".format(years_number))\n",
    "print(\"2. Oldest record in from {}, and the newest from {}\".format(min(years.items())[0],max(years.items())[0]))\n",
    "print(\"3. Year {} had the highest number of clinical trials({})\".format(largest[0],largest[1]))\n",
    "print(\"4. The first DOI was indexed in {}\".format(doi_init)) \n",
    "print(\"5. {} is the most prolific author with {} articles\".format(most_articles[0][:-1],most_articles[1]))\n",
    "print(\"6. The ten most common MeSH index major headings associated with clinical trials are:\")            \n",
    "print(tabulate(sorted_mesh[:10], headers=['MeSH Heading', 'Articles']))\n",
    "print(\"7. Average number of words in an abstract are {}\".format(int(abstract_len/count)))\n"
   ]
  },
  {
   "cell_type": "markdown",
   "metadata": {},
   "source": [
    "## Part 3"
   ]
  },
  {
   "cell_type": "code",
   "execution_count": 2,
   "metadata": {},
   "outputs": [],
   "source": [
    "from article_pb2 import *\n",
    "\n",
    "def json_to_proto(a,j_content):\n",
    "    for key in j_content.keys():\n",
    "        if key == 'title':\n",
    "            a.title = j_content[\"title\"]\n",
    "\n",
    "        if key == 'pmid':\n",
    "            a.pmid = j_content[\"pmid\"]\n",
    "\n",
    "        if key == 'abstract':\n",
    "            a.abstract = j_content[\"abstract\"]\n",
    "\n",
    "        if key == 'year':\n",
    "            a.year = j_content[\"year\"]\n",
    "\n",
    "        if key == 'doi':\n",
    "            a.doi = j_content[\"doi\"]\n",
    "\n",
    "        if key == 'publication data':\n",
    "            for key1 in j_content['publication_data'].keys():\n",
    "                a.key1=j_content[key1]\n",
    "\n",
    "        if key == 'authors':\n",
    "            for i in range(len(j_content['authors'])):\n",
    "                author = a.authors.add()\n",
    "                for key2 in j_content['authors'][i].keys():\n",
    "                    if key2 == 'forename':\n",
    "                        author.forename = j_content['authors'][i][key2]\n",
    "                    if key2 == 'initials':\n",
    "                        author.initials = j_content['authors'][i][key2]\n",
    "                    if key2 == 'lastname':\n",
    "                        author.lastname = j_content['authors'][i][key2]\n",
    "\n",
    "        if key == 'publication_types':\n",
    "            for i in range(len(j_content['publication_types'])):\n",
    "                pub_type = a.publication_types.add()\n",
    "                for key3 in j_content['publication_types'][i].keys():\n",
    "                    if key3 == 'name':\n",
    "                        pub_type.name = j_content['publication_types'][i][key3]\n",
    "                    if key3 == 'ui':\n",
    "                        pub_type.ui = j_content['publication_types'][i][key3]\n",
    "\n",
    "        if key == 'mesh_headings':\n",
    "            for i in range(len(j_content['mesh_headings'])):\n",
    "                mesh_head = a.mesh_headings.add()\n",
    "                for key4 in j_content['mesh_headings'][i].keys():\n",
    "                    if key4 == 'descriptor_name':\n",
    "                        mesh_head.descriptor_name = j_content['mesh_headings'][i][key4]\n",
    "                    if key4 == 'major':\n",
    "                        mesh_head.major = j_content['mesh_headings'][i][key4]\n",
    "                    if key4 == 'ui':\n",
    "                        mesh_head.ui = j_content['mesh_headings'][i][key4]\n",
    "                    if key4 == 'qualifiers':\n",
    "                        for j in range(len(j_content['mesh_headings'][i][key4])):\n",
    "                            qual = mesh_head.qualifiers.add()\n",
    "                            for key5 in j_content['mesh_headings'][i][key4][j].keys():\n",
    "                                if key5 == 'qualifier_name':\n",
    "                                    qual.qualifier_name=j_content['mesh_headings'][i][key4][j][key5]\n",
    "                                if key5 == 'major':\n",
    "                                    qual.major=j_content['mesh_headings'][i][key4][j][key5]\n",
    "                                if key5 == 'ui':\n",
    "                                    qual.ui=j_content['mesh_headings'][i][key4][j][key5]\n",
    "\n",
    "    return a\n",
    "\n"
   ]
  },
  {
   "cell_type": "code",
   "execution_count": 4,
   "metadata": {},
   "outputs": [
    {
     "name": "stdout",
     "output_type": "stream",
     "text": [
      "0\n",
      "1\n",
      "2\n",
      "3\n",
      "4\n",
      "5\n",
      "6\n",
      "7\n",
      "8\n",
      "9\n",
      "10\n",
      "11\n",
      "12\n",
      "13\n",
      "14\n",
      "15\n",
      "16\n",
      "17\n",
      "18\n",
      "19\n",
      "20\n",
      "Total number of articles written into protocol buffer : {} 500631\n"
     ]
    }
   ],
   "source": [
    "from article_pb2 import *\n",
    "\n",
    "j=1\n",
    "with open(\"article_list_new.pb\",\"wb\") as outfile:\n",
    "    for i in range(len(z)):\n",
    "        print(i)\n",
    "        article_list_write =  Article_list()\n",
    "        a= z[i].attrib[\"href\"][2:]\n",
    "        with open(a) as f:\n",
    "            for line in f:\n",
    "                j_content = json.loads(line)\n",
    "                a = article_list_write.articles.add()\n",
    "                a = json_to_proto(a, j_content)\n",
    "                j+=1\n",
    "\n",
    "        outfile.write(article_list_write.SerializeToString())\n",
    "print(\"Total number of articles written into protocol buffer : {}\",format(j))"
   ]
  },
  {
   "cell_type": "code",
   "execution_count": null,
   "metadata": {},
   "outputs": [],
   "source": [
    "infile = open(\"article_list.pb\",\"rb\")\n",
    "some_article = Article_list()\n",
    "some_article.ParseFromString(infile.read())\n",
    "infile.close\n",
    "\n",
    "i=1\n",
    "for article in some_article.articles:\n",
    "    i+=1\n",
    "    \n",
    "print(\"Total number of articles read from protocol buffer : {}\",format(i))"
   ]
  },
  {
   "cell_type": "code",
   "execution_count": 7,
   "metadata": {},
   "outputs": [],
   "source": [
    "size1 = os.path.getsize(\"article_list_new.pb\")"
   ]
  },
  {
   "cell_type": "code",
   "execution_count": 12,
   "metadata": {},
   "outputs": [
    {
     "name": "stdout",
     "output_type": "stream",
     "text": [
      "Total size of dataset as json is 1746235959 bytes or 1.746235959Gb\n",
      "Total size of dataset as protocal buffer is 1094383782 bytes or 1.094383782Gb\n",
      "It saves 651.852177 Mb of space\n"
     ]
    }
   ],
   "source": [
    "print(\"Total size of dataset as json is {} bytes or {}Gb\".format(size, size/1000**3))\n",
    "print(\"Total size of dataset as protocal buffer is {} bytes or {}Gb\".format(size1, size1/1000**3))\n",
    "print(\"It saves {} Mb of space\".format((size-size1)/1000**2))"
   ]
  },
  {
   "cell_type": "code",
   "execution_count": null,
   "metadata": {},
   "outputs": [],
   "source": []
  }
 ],
 "metadata": {
  "kernelspec": {
   "display_name": "Python 3",
   "language": "python",
   "name": "python3"
  },
  "language_info": {
   "codemirror_mode": {
    "name": "ipython",
    "version": 3
   },
   "file_extension": ".py",
   "mimetype": "text/x-python",
   "name": "python",
   "nbconvert_exporter": "python",
   "pygments_lexer": "ipython3",
   "version": "3.4.2"
  }
 },
 "nbformat": 4,
 "nbformat_minor": 2
}
